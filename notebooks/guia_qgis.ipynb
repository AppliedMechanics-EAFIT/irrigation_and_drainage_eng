{
 "cells": [
  {
   "cell_type": "markdown",
   "metadata": {},
   "source": [
    "# Guía introductoria al uso de QGis\n",
    "\n",
    "© 2024 Daniel F. Ruiz, Exneyder A. Montoya-Araque y Universidad EAFIT.\n",
    "\n",
    "----------"
   ]
  },
  {
   "cell_type": "markdown",
   "metadata": {},
   "source": [
    "## Configuración inicial"
   ]
  },
  {
   "cell_type": "markdown",
   "metadata": {},
   "source": [
    "### Selección del sistema de referencia geográfica\n",
    "\n",
    "![Figure: 01_sistema_referencia](./img/01_sistema_referencia.png)\n"
   ]
  },
  {
   "cell_type": "markdown",
   "metadata": {},
   "source": [
    "---------------------"
   ]
  },
  {
   "cell_type": "markdown",
   "metadata": {},
   "source": [
    "### Guardar directorio de trabajo como acceso rápido en favoritos\n",
    "\n",
    "![Figure: 02_directorio_a_favoritos](./img/02_directorio_a_favoritos.png)"
   ]
  },
  {
   "cell_type": "markdown",
   "metadata": {},
   "source": [
    "---------------------"
   ]
  },
  {
   "cell_type": "markdown",
   "metadata": {},
   "source": [
    "### Guardar proyecto en el directorio de trabajo\n",
    "\n",
    "![Figure: 03_guardar_proyecto](./img/03_guardar_proyecto.png)"
   ]
  },
  {
   "cell_type": "markdown",
   "metadata": {},
   "source": [
    "---------------------"
   ]
  },
  {
   "cell_type": "markdown",
   "metadata": {},
   "source": [
    "## Cargar shape de curvas de nivel\n",
    "\n",
    "### Identificar y arrastrar desde el panel de navegación\n",
    "\n",
    "![Figure: 04_1_cargar_primer_archivo](./img/04_1_cargar_primer_archivo.png)"
   ]
  },
  {
   "cell_type": "markdown",
   "metadata": {},
   "source": [
    "---------------------"
   ]
  },
  {
   "cell_type": "markdown",
   "metadata": {},
   "source": [
    "### Explorar los atributos del shape\n",
    "\n",
    "![Figure: 04_2_explorar_tabla_atributos](./img/04_2_explorar_tabla_atributos.png)"
   ]
  },
  {
   "cell_type": "markdown",
   "metadata": {},
   "source": [
    "---------------------"
   ]
  },
  {
   "cell_type": "markdown",
   "metadata": {},
   "source": [
    "### Explorar los atributos de un objeto específico dentro del shape\n",
    "\n",
    "![Figure: 04_3_explorar_atributos_objeto](./img/04_3_explorar_atributos_objeto.png)"
   ]
  },
  {
   "cell_type": "markdown",
   "metadata": {},
   "source": [
    "---------------------"
   ]
  },
  {
   "cell_type": "markdown",
   "metadata": {},
   "source": [
    "### Editar el aspecto visual del shape\n",
    "\n",
    "![Figure: 04_4_editar_formato_visual](./img/04_4_editar_formato_visual.png)"
   ]
  }
 ],
 "metadata": {
  "kernelspec": {
   "display_name": "EAFIT-2-env",
   "language": "python",
   "name": "python3"
  },
  "language_info": {
   "codemirror_mode": {
    "name": "ipython",
    "version": 3
   },
   "file_extension": ".py",
   "mimetype": "text/x-python",
   "name": "python",
   "nbconvert_exporter": "python",
   "pygments_lexer": "ipython3",
   "version": "3.10.13"
  }
 },
 "nbformat": 4,
 "nbformat_minor": 2
}
