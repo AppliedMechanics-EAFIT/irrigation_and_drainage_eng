{
 "cells": [
  {
   "cell_type": "markdown",
   "metadata": {},
   "source": [
    "# Guía introductoria al uso de QGis\n",
    "\n",
    "© 2024 Daniel F. Ruiz, Exneyder A. Montoya-Araque y Universidad EAFIT.\n",
    "\n",
    "\n",
    "----------"
   ]
  },
  {
   "cell_type": "markdown",
   "metadata": {},
   "source": [
    "## Selección del sistema de referencia geográfica\n",
    "\n",
    "![Figure: 01_sistema_referencia](./img/01_sistema_referencia.png)"
   ]
  },
  {
   "cell_type": "markdown",
   "metadata": {},
   "source": [
    "---------------------"
   ]
  },
  {
   "cell_type": "markdown",
   "metadata": {},
   "source": [
    "## Guardar directorio de trabajo como acceso rápido en favoritos\n",
    "\n",
    "![Figure: 01_sistema_referencia](./img/02_directorio_a_favoritos.png)"
   ]
  },
  {
   "cell_type": "markdown",
   "metadata": {},
   "source": [
    "---------------------"
   ]
  },
  {
   "cell_type": "markdown",
   "metadata": {},
   "source": [
    "## Guardar proyecto en el directorio de trabajo\n",
    "\n",
    "![Figure: 01_sistema_referencia](./img/03_guardar_proyecto.png)"
   ]
  },
  {
   "cell_type": "markdown",
   "metadata": {},
   "source": [
    "---------------------"
   ]
  },
  {
   "cell_type": "markdown",
   "metadata": {},
   "source": [
    "## Cargar el primer archivo georrerenciado\n",
    "\n",
    "![Figure: 01_sistema_referencia](./img/04_cargar_primer_archivo.png)"
   ]
  },
  {
   "cell_type": "markdown",
   "metadata": {},
   "source": [
    "---------------------"
   ]
  }
 ],
 "metadata": {
  "language_info": {
   "name": "python"
  }
 },
 "nbformat": 4,
 "nbformat_minor": 2
}
