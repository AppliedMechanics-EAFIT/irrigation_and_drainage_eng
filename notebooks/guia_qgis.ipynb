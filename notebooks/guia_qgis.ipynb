{
 "cells": [
  {
   "cell_type": "markdown",
   "metadata": {},
   "source": [
    "# Guía introductoria al uso de QGis\n",
    "\n",
    "© 2024 Daniel F. Ruiz, Exneyder A. Montoya-Araque y Universidad EAFIT."
   ]
  },
  {
   "cell_type": "markdown",
   "metadata": {},
   "source": [
    "## Selección del sistema de referencia geográfica\n",
    "\n",
    "![Figure: 01_sistema_referencia](./img/01_sistema_referencia.png)"
   ]
  },
  {
   "cell_type": "markdown",
   "metadata": {},
   "source": [
    "---------------------"
   ]
  },
  {
   "cell_type": "markdown",
   "metadata": {},
   "source": [
    "![Figure: 01_sistema_referencia](https://raw.githubusercontent.com/AppliedMechanics-EAFIT/irrigation_and_drainage_eng/main/notebooks/img/01_sistema_referencia.png)"
   ]
  }
 ],
 "metadata": {
  "language_info": {
   "name": "python"
  }
 },
 "nbformat": 4,
 "nbformat_minor": 2
}
