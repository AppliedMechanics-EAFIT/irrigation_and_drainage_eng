{
 "cells": [
  {
   "cell_type": "markdown",
   "metadata": {},
   "source": [
    "# Guía introductoria al uso de QGis\n",
    "\n",
    "© 2024 Daniel F. Ruiz, Exneyder A. Montoya-Araque y Universidad EAFIT.\n",
    "\n",
    "----------"
   ]
  },
  {
   "cell_type": "markdown",
   "metadata": {},
   "source": [
    "## Selección del sistema de referencia geográfica\n",
    "\n",
    "![Figure: 01_sistema_referencia](./img/01_sistema_referencia.png)"
   ]
  },
  {
   "cell_type": "markdown",
   "metadata": {},
   "source": [
    "---------------------"
   ]
  },
  {
   "cell_type": "markdown",
   "metadata": {},
   "source": [
    "## Guardar directorio de trabajo como acceso rápido en favoritos\n",
    "\n",
    "![Figure: 01_sistema_referencia](./img/02_directorio_a_favoritos.png)"
   ]
  },
  {
   "cell_type": "markdown",
   "metadata": {},
   "source": [
    "---------------------"
   ]
  },
  {
   "cell_type": "markdown",
   "metadata": {},
   "source": [
    "## Guardar proyecto en el directorio de trabajo\n",
    "\n",
    "![Figure: 01_sistema_referencia](./img/03_guardar_proyecto.png)"
   ]
  },
  {
   "cell_type": "markdown",
   "metadata": {},
   "source": [
    "---------------------"
   ]
  },
  {
   "cell_type": "markdown",
   "metadata": {},
   "source": [
    "## Cargar el primer archivo georrerenciado\n",
    "\n",
    "![Figure: 01_sistema_referencia](./img/04_cargar_primer_archivo.png)"
   ]
  },
  {
   "cell_type": "markdown",
   "metadata": {},
   "source": [
    "---------------------"
   ]
  }
 ],
 "metadata": {
  "kernelspec": {
   "display_name": "EAFIT-2-env",
   "language": "python",
   "name": "python3"
  },
  "language_info": {
   "codemirror_mode": {
    "name": "ipython",
    "version": 3
   },
   "file_extension": ".py",
   "mimetype": "text/x-python",
   "name": "python",
   "nbconvert_exporter": "python",
   "pygments_lexer": "ipython3",
   "version": "3.10.13"
  }
 },
 "nbformat": 4,
 "nbformat_minor": 2
}
