{
 "cells": [
  {
   "cell_type": "markdown",
   "metadata": {},
   "source": [
    "# Guía de uso de QGis - Parte I: Introducción\n",
    "\n",
    "© 2024 Daniel F. Ruiz, Exneyder A. Montoya-Araque y Universidad EAFIT.\n",
    "\n",
    "----------"
   ]
  },
  {
   "cell_type": "markdown",
   "metadata": {},
   "source": [
    "## Configuración inicial\n",
    "----------"
   ]
  },
  {
   "cell_type": "markdown",
   "metadata": {},
   "source": [
    "### Selección del sistema de referencia geográfica\n",
    "\n",
    "![Figure: 01_1_sistema_referencia](./img/p1/01_1_sistema_referencia.png)\n",
    "\n",
    "---------------------"
   ]
  },
  {
   "cell_type": "markdown",
   "metadata": {},
   "source": [
    "### Guardar directorio de trabajo como acceso rápido en favoritos\n",
    "\n",
    "![Figure: 01_2_directorio_a_favoritos](./img/p1/01_2_directorio_a_favoritos.png)\n",
    "\n",
    "---------------------"
   ]
  },
  {
   "cell_type": "markdown",
   "metadata": {},
   "source": [
    "### Guardar proyecto en el directorio de trabajo\n",
    "\n",
    "![Figure: 01_3_guardar_proyecto](./img/p1/01_3_guardar_proyecto.png)\n",
    "\n",
    "---------------------"
   ]
  },
  {
   "cell_type": "markdown",
   "metadata": {},
   "source": [
    "## Cargar shape de curvas de nivel\n",
    "\n",
    "### Identificar y arrastrar desde el panel de navegación\n",
    "\n",
    "![Figure: 02_1_cargar_primer_archivo](./img/p1/02_1_cargar_primer_archivo.png)\n",
    "\n",
    "---------------------"
   ]
  },
  {
   "cell_type": "markdown",
   "metadata": {},
   "source": [
    "### Explorar los atributos del shape\n",
    "\n",
    "![Figure: 02_2_explorar_tabla_atributos](./img/p1/02_2_explorar_tabla_atributos.png)\n",
    "\n",
    "---------------------"
   ]
  },
  {
   "cell_type": "markdown",
   "metadata": {},
   "source": [
    "### Explorar los atributos de un objeto específico dentro del shape\n",
    "\n",
    "![Figure: 02_3_explorar_atributos_objeto](./img/p1/02_3_explorar_atributos_objeto.png)\n",
    "\n",
    "---------------------"
   ]
  },
  {
   "cell_type": "markdown",
   "metadata": {},
   "source": [
    "### Editar el aspecto visual del shape\n",
    "\n",
    "![Figure: 02_4_editar_formato_visual](./img/p1/02_4_editar_formato_visual.png)\n",
    "\n",
    "---------------------"
   ]
  },
  {
   "cell_type": "markdown",
   "metadata": {},
   "source": [
    "## Crear un ráster del model de elevación digital (DEM)\n",
    "\n",
    "----------\n",
    "\n",
    "### Interpolar las cotas de las curvas de nivel\n",
    "\n",
    "![Figure: 03_1_interpolacion](./img/p1/03_1_interpolacion.png)\n",
    "\n",
    "![Figure: 03_2_interpolacion](./img/p1/03_2_interpolacion.png)\n",
    "\n",
    "---------------------"
   ]
  },
  {
   "cell_type": "markdown",
   "metadata": {},
   "source": [
    "### Crear shape poligonal para cortar el DEM interpolado\n",
    "\n",
    "![Figure: 03_3_crear_mascara_recorte](./img/p1/03_3_crear_mascara_recorte.png)\n",
    "\n",
    "---------------------"
   ]
  },
  {
   "cell_type": "markdown",
   "metadata": {},
   "source": [
    "### Cortar el DEM con la máscara\n",
    "\n",
    "![Figure: 03_4_cortar_dem_mascara](./img/p1/03_4_cortar_dem_mascara.png)\n",
    "\n",
    "---------------------"
   ]
  },
  {
   "cell_type": "markdown",
   "metadata": {},
   "source": [
    "### Editar el aspecto visual del raster del DEM\n",
    "\n",
    "![Figure: 03_5_editar_formato_visual](./img/p1/03_5_editar_formato_visual.png)\n",
    "\n",
    "![Figure: 03_6_editar_formato_visual](./img/p1/03_6_editar_formato_visual.png)\n",
    "\n",
    "\n",
    "---------------------"
   ]
  },
  {
   "cell_type": "markdown",
   "metadata": {},
   "source": [
    "## Crear un raster del modelo de sombras (Hillshade)\n",
    "\n",
    "----------\n",
    "\n",
    "### Generar mapa de sombras\n",
    "\n",
    "![Figure: 04_1_generar_hillshade](./img/p1/04_1_generar_hillshade.png)\n",
    "\n",
    "\n",
    "---------------------"
   ]
  },
  {
   "cell_type": "markdown",
   "metadata": {},
   "source": [
    "### Cargar red de drenaje y reordenar capas\n",
    "\n",
    "![Figure: 04_2_cargar_drenajes_y_reordenar_capas](./img/p1/04_2_cargar_drenajes_y_reordenar_capas.png)\n",
    "\n",
    "\n",
    "---------------------"
   ]
  }
 ],
 "metadata": {
  "kernelspec": {
   "display_name": "EAFIT-2-env",
   "language": "python",
   "name": "python3"
  },
  "language_info": {
   "codemirror_mode": {
    "name": "ipython",
    "version": 3
   },
   "file_extension": ".py",
   "mimetype": "text/x-python",
   "name": "python",
   "nbconvert_exporter": "python",
   "pygments_lexer": "ipython3",
   "version": "3.10.13"
  }
 },
 "nbformat": 4,
 "nbformat_minor": 2
}
