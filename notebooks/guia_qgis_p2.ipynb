{
 "cells": [
  {
   "cell_type": "markdown",
   "metadata": {},
   "source": [
    "# Guía de uso de QGis - Parte II: Análisis de cuencas\n",
    "\n",
    "© 2024 Daniel F. Ruiz, Exneyder A. Montoya-Araque y Universidad EAFIT.\n",
    "\n",
    "----------"
   ]
  },
  {
   "cell_type": "markdown",
   "metadata": {},
   "source": [
    "## Delimitación de cuencas\n",
    "---------------------"
   ]
  },
  {
   "cell_type": "markdown",
   "metadata": {},
   "source": [
    "### Identificación del punto de salida de la cuenca y trazo de la divisoria\n",
    "\n",
    "![Figure: 01_1_delimitacion](./img/p2/01_1_delimitacion.png)\n",
    "\n",
    "---------------------"
   ]
  },
  {
   "cell_type": "markdown",
   "metadata": {},
   "source": [
    "### Trazo de una cuenca contigua a la primera\n",
    "\n",
    "![Figure: 01_2_delimitacion](./img/p2/01_2_delimitacion.png)\n",
    "\n",
    "---------------------"
   ]
  },
  {
   "cell_type": "markdown",
   "metadata": {},
   "source": [
    "## Atributos de las cuencas\n",
    "---------------------"
   ]
  },
  {
   "cell_type": "markdown",
   "metadata": {},
   "source": [
    "### Creación de campos automáticos - Cálculo del área y perímetro\n",
    "\n",
    "![Figure: 02_1_campo_automatico_area_perim](./img/p2/02_1_campo_automatico_area_perim.png)\n",
    "\n",
    "---------------------"
   ]
  },
  {
   "cell_type": "markdown",
   "metadata": {},
   "source": [
    "### Creación de un campo manual - Medición de la longitud\n",
    "\n",
    "![Figure: 02_2_campo_manual_longitud](./img/p2/02_2_campo_manual_longitud.png)\n",
    "\n",
    "---------------------"
   ]
  },
  {
   "cell_type": "markdown",
   "metadata": {},
   "source": [
    "### Nuevo campo a partir de una operación entre campos existentes\n",
    "\n",
    "![Figure: 02_3_calculo_entre_campos](./img/p2/02_3_calculo_entre_campos.png)\n",
    "\n",
    "---------------------"
   ]
  },
  {
   "cell_type": "markdown",
   "metadata": {},
   "source": [
    "## Atributos de los drenajes\n",
    "---------------------"
   ]
  },
  {
   "cell_type": "markdown",
   "metadata": {},
   "source": [
    "### Extracción de drenajes dentro de una cuenca\n",
    "\n",
    "![Figure: 03_1_recorde_drenajes_cuenca](./img/p2/03_1_recorde_drenajes_cuenca.png)\n",
    "\n",
    "---------------------"
   ]
  },
  {
   "cell_type": "markdown",
   "metadata": {
    "vscode": {
     "languageId": "plaintext"
    }
   },
   "source": [
    "### Cálculo de las longitudes\n",
    "\n",
    "![Figure: 03_2_calculo_automatico_longitudes](./img/p2/03_2_calculo_automatico_longitudes.png)\n",
    "\n",
    "---------------------"
   ]
  },
  {
   "cell_type": "markdown",
   "metadata": {},
   "source": [
    "### Sumatoria de las longitudes de drenajes en una cuenca y asignación de atributo en shape de cuencas\n",
    "\n",
    "![Figure: 03_3_sumatoria_longitudes_y_atributo_en_cuenca](./img/p2/03_3_sumatoria_longitudes_y_atributo_en_cuenca.png)\n",
    "\n",
    "---------------------"
   ]
  },
  {
   "cell_type": "markdown",
   "metadata": {},
   "source": [
    "### Densidad de drenajes en una cuenca\n",
    "\n",
    "![Figure: 03_4_densidad_drenajes](./img/p2/03_4_densidad_drenajes.png)\n",
    "\n",
    "---------------------"
   ]
  },
  {
   "cell_type": "markdown",
   "metadata": {},
   "source": [
    "## Mapa de pendiente\n",
    "---------------------"
   ]
  },
  {
   "cell_type": "markdown",
   "metadata": {},
   "source": [
    "### Extracción del DEM de una cuenca\n",
    "\n",
    "![Figure: 04_1_extraccion_dem_cuenca](./img/p2/04_1_extraccion_dem_cuenca.png)\n",
    "\n",
    "---------------------"
   ]
  },
  {
   "cell_type": "markdown",
   "metadata": {},
   "source": [
    "### Generación del mapa de pendientes de una cuenca\n",
    "\n",
    "![Figure: 04_2_pendientes_cuenca](./img/p2/04_2_pendientes_cuenca.png)\n",
    "\n",
    "---------------------"
   ]
  },
  {
   "cell_type": "markdown",
   "metadata": {},
   "source": [
    "### Edición del estilo y orden de las capas\n",
    "\n",
    "![Figure: 04_3_edicion_estilo](./img/p2/04_3_edicion_estilo.png)\n",
    "\n",
    "---------------------"
   ]
  },
  {
   "cell_type": "markdown",
   "metadata": {},
   "source": [
    "## Perfiles\n",
    "---------------------"
   ]
  },
  {
   "cell_type": "markdown",
   "metadata": {},
   "source": [
    "### Instalación del complemento\n",
    "\n",
    "![Figure: 05_1_instalacion_complemento](./img/p2/05_1_instalacion_complemento.png)\n",
    "\n",
    "---------------------"
   ]
  },
  {
   "cell_type": "markdown",
   "metadata": {},
   "source": [
    "### Generación del perfil\n",
    "\n",
    "![Figure: 05_2_generacion_perfil](./img/p2/05_2_generacion_perfil.png)\n",
    "\n",
    "---------------------"
   ]
  }
 ],
 "metadata": {
  "kernelspec": {
   "display_name": "EAFIT-2-env",
   "language": "python",
   "name": "python3"
  },
  "language_info": {
   "codemirror_mode": {
    "name": "ipython",
    "version": 3
   },
   "file_extension": ".py",
   "mimetype": "text/x-python",
   "name": "python",
   "nbconvert_exporter": "python",
   "pygments_lexer": "ipython3",
   "version": "3.10.13"
  }
 },
 "nbformat": 4,
 "nbformat_minor": 2
}
